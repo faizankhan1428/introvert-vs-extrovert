{
 "cells": [
  {
   "cell_type": "markdown",
   "id": "7f413afc",
   "metadata": {
    "papermill": {
     "duration": 0.005945,
     "end_time": "2025-07-01T11:53:42.985430",
     "exception": false,
     "start_time": "2025-07-01T11:53:42.979485",
     "status": "completed"
    },
    "tags": []
   },
   "source": [
    "<div style=\"background-color:#cce5ff; padding:10px; border-radius:5px;\">\n",
    "\n",
    "# Predict the Introverts from the Extroverts\n",
    "\n",
    "</div>"
   ]
  },
  {
   "cell_type": "markdown",
   "id": "b7b6a529",
   "metadata": {
    "papermill": {
     "duration": 0.004371,
     "end_time": "2025-07-01T11:53:42.994872",
     "exception": false,
     "start_time": "2025-07-01T11:53:42.990501",
     "status": "completed"
    },
    "tags": []
   },
   "source": [
    "<div style=\"background-color:#f5e6cc; padding:10px; border-radius:5px;\">\n",
    "\n",
    "# Step 1: Import Libraries & Load Data\n",
    "\n",
    "</div>"
   ]
  },
  {
   "cell_type": "code",
   "execution_count": 1,
   "id": "2d8ba0f8",
   "metadata": {
    "_cell_guid": "b1076dfc-b9ad-4769-8c92-a6c4dae69d19",
    "_uuid": "8f2839f25d086af736a60e9eeb907d3b93b6e0e5",
    "execution": {
     "iopub.execute_input": "2025-07-01T11:53:43.005336Z",
     "iopub.status.busy": "2025-07-01T11:53:43.005024Z",
     "iopub.status.idle": "2025-07-01T11:53:47.481068Z",
     "shell.execute_reply": "2025-07-01T11:53:47.480104Z"
    },
    "papermill": {
     "duration": 4.483153,
     "end_time": "2025-07-01T11:53:47.482595",
     "exception": false,
     "start_time": "2025-07-01T11:53:42.999442",
     "status": "completed"
    },
    "tags": []
   },
   "outputs": [
    {
     "data": {
      "text/html": [
       "<div>\n",
       "<style scoped>\n",
       "    .dataframe tbody tr th:only-of-type {\n",
       "        vertical-align: middle;\n",
       "    }\n",
       "\n",
       "    .dataframe tbody tr th {\n",
       "        vertical-align: top;\n",
       "    }\n",
       "\n",
       "    .dataframe thead th {\n",
       "        text-align: right;\n",
       "    }\n",
       "</style>\n",
       "<table border=\"1\" class=\"dataframe\">\n",
       "  <thead>\n",
       "    <tr style=\"text-align: right;\">\n",
       "      <th></th>\n",
       "      <th>id</th>\n",
       "      <th>Time_spent_Alone</th>\n",
       "      <th>Stage_fear</th>\n",
       "      <th>Social_event_attendance</th>\n",
       "      <th>Going_outside</th>\n",
       "      <th>Drained_after_socializing</th>\n",
       "      <th>Friends_circle_size</th>\n",
       "      <th>Post_frequency</th>\n",
       "      <th>Personality</th>\n",
       "    </tr>\n",
       "  </thead>\n",
       "  <tbody>\n",
       "    <tr>\n",
       "      <th>0</th>\n",
       "      <td>0</td>\n",
       "      <td>0.0</td>\n",
       "      <td>No</td>\n",
       "      <td>6.0</td>\n",
       "      <td>4.0</td>\n",
       "      <td>No</td>\n",
       "      <td>15.0</td>\n",
       "      <td>5.0</td>\n",
       "      <td>Extrovert</td>\n",
       "    </tr>\n",
       "    <tr>\n",
       "      <th>1</th>\n",
       "      <td>1</td>\n",
       "      <td>1.0</td>\n",
       "      <td>No</td>\n",
       "      <td>7.0</td>\n",
       "      <td>3.0</td>\n",
       "      <td>No</td>\n",
       "      <td>10.0</td>\n",
       "      <td>8.0</td>\n",
       "      <td>Extrovert</td>\n",
       "    </tr>\n",
       "    <tr>\n",
       "      <th>2</th>\n",
       "      <td>2</td>\n",
       "      <td>6.0</td>\n",
       "      <td>Yes</td>\n",
       "      <td>1.0</td>\n",
       "      <td>0.0</td>\n",
       "      <td>NaN</td>\n",
       "      <td>3.0</td>\n",
       "      <td>0.0</td>\n",
       "      <td>Introvert</td>\n",
       "    </tr>\n",
       "    <tr>\n",
       "      <th>3</th>\n",
       "      <td>3</td>\n",
       "      <td>3.0</td>\n",
       "      <td>No</td>\n",
       "      <td>7.0</td>\n",
       "      <td>3.0</td>\n",
       "      <td>No</td>\n",
       "      <td>11.0</td>\n",
       "      <td>5.0</td>\n",
       "      <td>Extrovert</td>\n",
       "    </tr>\n",
       "    <tr>\n",
       "      <th>4</th>\n",
       "      <td>4</td>\n",
       "      <td>1.0</td>\n",
       "      <td>No</td>\n",
       "      <td>4.0</td>\n",
       "      <td>4.0</td>\n",
       "      <td>No</td>\n",
       "      <td>13.0</td>\n",
       "      <td>NaN</td>\n",
       "      <td>Extrovert</td>\n",
       "    </tr>\n",
       "  </tbody>\n",
       "</table>\n",
       "</div>"
      ],
      "text/plain": [
       "   id  Time_spent_Alone Stage_fear  Social_event_attendance  Going_outside  \\\n",
       "0   0               0.0         No                      6.0            4.0   \n",
       "1   1               1.0         No                      7.0            3.0   \n",
       "2   2               6.0        Yes                      1.0            0.0   \n",
       "3   3               3.0         No                      7.0            3.0   \n",
       "4   4               1.0         No                      4.0            4.0   \n",
       "\n",
       "  Drained_after_socializing  Friends_circle_size  Post_frequency Personality  \n",
       "0                        No                 15.0             5.0   Extrovert  \n",
       "1                        No                 10.0             8.0   Extrovert  \n",
       "2                       NaN                  3.0             0.0   Introvert  \n",
       "3                        No                 11.0             5.0   Extrovert  \n",
       "4                        No                 13.0             NaN   Extrovert  "
      ]
     },
     "execution_count": 1,
     "metadata": {},
     "output_type": "execute_result"
    }
   ],
   "source": [
    "# 1. Import Libraries\n",
    "import pandas as pd\n",
    "import numpy as np\n",
    "import matplotlib.pyplot as plt\n",
    "import seaborn as sns\n",
    "from sklearn.model_selection import train_test_split, cross_val_score\n",
    "from sklearn.metrics import accuracy_score, classification_report, confusion_matrix\n",
    "from sklearn.ensemble import RandomForestClassifier\n",
    "from sklearn.preprocessing import LabelEncoder\n",
    "\n",
    "# Load Data\n",
    "train = pd.read_csv('/kaggle/input/playground-series-s5e7/train.csv')\n",
    "test = pd.read_csv('/kaggle/input/playground-series-s5e7/test.csv')\n",
    "sample_submission = pd.read_csv('/kaggle/input/playground-series-s5e7/sample_submission.csv')\n",
    "\n",
    "import warnings\n",
    "warnings.filterwarnings(\"ignore\")  # Suppress warnings like the one you saw\n",
    "\n",
    "# Quick View\n",
    "train.head()"
   ]
  },
  {
   "cell_type": "code",
   "execution_count": 2,
   "id": "da54c312",
   "metadata": {
    "execution": {
     "iopub.execute_input": "2025-07-01T11:53:47.493509Z",
     "iopub.status.busy": "2025-07-01T11:53:47.493183Z",
     "iopub.status.idle": "2025-07-01T11:53:47.525937Z",
     "shell.execute_reply": "2025-07-01T11:53:47.524989Z"
    },
    "papermill": {
     "duration": 0.040019,
     "end_time": "2025-07-01T11:53:47.527458",
     "exception": false,
     "start_time": "2025-07-01T11:53:47.487439",
     "status": "completed"
    },
    "tags": []
   },
   "outputs": [
    {
     "name": "stdout",
     "output_type": "stream",
     "text": [
      "<class 'pandas.core.frame.DataFrame'>\n",
      "RangeIndex: 18524 entries, 0 to 18523\n",
      "Data columns (total 9 columns):\n",
      " #   Column                     Non-Null Count  Dtype  \n",
      "---  ------                     --------------  -----  \n",
      " 0   id                         18524 non-null  int64  \n",
      " 1   Time_spent_Alone           17334 non-null  float64\n",
      " 2   Stage_fear                 16631 non-null  object \n",
      " 3   Social_event_attendance    17344 non-null  float64\n",
      " 4   Going_outside              17058 non-null  float64\n",
      " 5   Drained_after_socializing  17375 non-null  object \n",
      " 6   Friends_circle_size        17470 non-null  float64\n",
      " 7   Post_frequency             17260 non-null  float64\n",
      " 8   Personality                18524 non-null  object \n",
      "dtypes: float64(5), int64(1), object(3)\n",
      "memory usage: 1.3+ MB\n"
     ]
    },
    {
     "data": {
      "text/plain": [
       "Personality\n",
       "Extrovert    13699\n",
       "Introvert     4825\n",
       "Name: count, dtype: int64"
      ]
     },
     "execution_count": 2,
     "metadata": {},
     "output_type": "execute_result"
    }
   ],
   "source": [
    "# Check for missing values and data types\n",
    "train.info()\n",
    "train.isnull().sum()\n",
    "train['Personality'].value_counts()"
   ]
  },
  {
   "cell_type": "markdown",
   "id": "28a1fdad",
   "metadata": {
    "execution": {
     "iopub.execute_input": "2025-07-01T10:53:02.811503Z",
     "iopub.status.busy": "2025-07-01T10:53:02.810408Z",
     "iopub.status.idle": "2025-07-01T10:53:02.815021Z",
     "shell.execute_reply": "2025-07-01T10:53:02.814102Z",
     "shell.execute_reply.started": "2025-07-01T10:53:02.811471Z"
    },
    "papermill": {
     "duration": 0.004578,
     "end_time": "2025-07-01T11:53:47.536969",
     "exception": false,
     "start_time": "2025-07-01T11:53:47.532391",
     "status": "completed"
    },
    "tags": []
   },
   "source": [
    "<div style=\"background-color:#f5e6cc; padding:10px; border-radius:5px;\">\n",
    "\n",
    "# Step 2: EDA (Exploratory Data Analysis)\n",
    "\n",
    "</div>"
   ]
  },
  {
   "cell_type": "markdown",
   "id": "105fe072",
   "metadata": {
    "papermill": {
     "duration": 0.004567,
     "end_time": "2025-07-01T11:53:47.546233",
     "exception": false,
     "start_time": "2025-07-01T11:53:47.541666",
     "status": "completed"
    },
    "tags": []
   },
   "source": [
    "# Step 2A: Visualize Target Distribution"
   ]
  },
  {
   "cell_type": "code",
   "execution_count": 3,
   "id": "e47af271",
   "metadata": {
    "execution": {
     "iopub.execute_input": "2025-07-01T11:53:47.557068Z",
     "iopub.status.busy": "2025-07-01T11:53:47.556701Z",
     "iopub.status.idle": "2025-07-01T11:53:47.795877Z",
     "shell.execute_reply": "2025-07-01T11:53:47.794948Z"
    },
    "papermill": {
     "duration": 0.246464,
     "end_time": "2025-07-01T11:53:47.797280",
     "exception": false,
     "start_time": "2025-07-01T11:53:47.550816",
     "status": "completed"
    },
    "tags": []
   },
   "outputs": [
    {
     "data": {
      "image/png": "[encoded data removed]",
      "text/plain": [
       "<Figure size 640x480 with 1 Axes>"
      ]
     },
     "metadata": {},
     "output_type": "display_data"
    }
   ],
   "source": [
    "# Plot personality distribution\n",
    "sns.countplot(data=train, x='Personality', palette='pastel')\n",
    "plt.title('Target Class Distribution')\n",
    "plt.show()"
   ]
  },
  {
   "cell_type": "markdown",
   "id": "e2167578",
   "metadata": {
    "papermill": {
     "duration": 0.005063,
     "end_time": "2025-07-01T11:53:47.807737",
     "exception": false,
     "start_time": "2025-07-01T11:53:47.802674",
     "status": "completed"
    },
    "tags": []
   },
   "source": [
    "# Step 2B: Check Numerical Features"
   ]
  },
  {
   "cell_type": "code",
   "execution_count": 4,
   "id": "278496ac",
   "metadata": {
    "execution": {
     "iopub.execute_input": "2025-07-01T11:53:47.819480Z",
     "iopub.status.busy": "2025-07-01T11:53:47.819156Z",
     "iopub.status.idle": "2025-07-01T11:53:48.851558Z",
     "shell.execute_reply": "2025-07-01T11:53:48.850584Z"
    },
    "papermill": {
     "duration": 1.04056,
     "end_time": "2025-07-01T11:53:48.853551",
     "exception": false,
     "start_time": "2025-07-01T11:53:47.812991",
     "status": "completed"
    },
    "tags": []
   },
   "outputs": [
    {
     "data": {
      "image/png": "[encoded data removed]",
      "text/plain": [
       "<Figure size 1500x800 with 6 Axes>"
      ]
     },
     "metadata": {},
     "output_type": "display_data"
    }
   ],
   "source": [
    "# Histograms of numerical features\n",
    "num_cols = ['Time_spent_Alone', 'Social_event_attendance', 'Going_outside', 'Friends_circle_size', 'Post_frequency']\n",
    "train[num_cols].hist(bins=30, figsize=(15, 8), color='skyblue', edgecolor='black')\n",
    "plt.suptitle(\"Distribution of Numerical Features\", fontsize=16)\n",
    "plt.tight_layout()\n",
    "plt.show()"
   ]
  },
  {
   "cell_type": "markdown",
   "id": "bdf7d82a",
   "metadata": {
    "papermill": {
     "duration": 0.00619,
     "end_time": "2025-07-01T11:53:48.867063",
     "exception": false,
     "start_time": "2025-07-01T11:53:48.860873",
     "status": "completed"
    },
    "tags": []
   },
   "source": [
    "# Step 2C: Categorical Feature Analysis"
   ]
  },
  {
   "cell_type": "code",
   "execution_count": 5,
   "id": "0ad895e7",
   "metadata": {
    "execution": {
     "iopub.execute_input": "2025-07-01T11:53:48.881202Z",
     "iopub.status.busy": "2025-07-01T11:53:48.880855Z",
     "iopub.status.idle": "2025-07-01T11:53:49.239169Z",
     "shell.execute_reply": "2025-07-01T11:53:49.238297Z"
    },
    "papermill": {
     "duration": 0.367241,
     "end_time": "2025-07-01T11:53:49.240646",
     "exception": false,
     "start_time": "2025-07-01T11:53:48.873405",
     "status": "completed"
    },
    "tags": []
   },
   "outputs": [
    {
     "data": {
      "image/png": "[encoded data removed]",
      "text/plain": [
       "<Figure size 640x480 with 1 Axes>"
      ]
     },
     "metadata": {},
     "output_type": "display_data"
    },
    {
     "data": {
      "image/png": "[encoded data removed]",
      "text/plain": [
       "<Figure size 640x480 with 1 Axes>"
      ]
     },
     "metadata": {},
     "output_type": "display_data"
    }
   ],
   "source": [
    "# Categorical vs Target\n",
    "cat_cols = ['Stage_fear', 'Drained_after_socializing']\n",
    "\n",
    "for col in cat_cols:\n",
    "    sns.countplot(data=train, x=col, hue='Personality', palette='Set2')\n",
    "    plt.title(f'{col} vs Personality')\n",
    "    plt.show()"
   ]
  },
  {
   "cell_type": "markdown",
   "id": "aa740278",
   "metadata": {
    "papermill": {
     "duration": 0.0069,
     "end_time": "2025-07-01T11:53:49.255285",
     "exception": false,
     "start_time": "2025-07-01T11:53:49.248385",
     "status": "completed"
    },
    "tags": []
   },
   "source": [
    "<div style=\"background-color:#f5e6cc; padding:10px; border-radius:5px;\">\n",
    "\n",
    "# Step 3: Data Cleaning & Preprocessing\n",
    "\n",
    "</div>"
   ]
  },
  {
   "cell_type": "markdown",
   "id": "70ba5db1",
   "metadata": {
    "papermill": {
     "duration": 0.00681,
     "end_time": "2025-07-01T11:53:49.269284",
     "exception": false,
     "start_time": "2025-07-01T11:53:49.262474",
     "status": "completed"
    },
    "tags": []
   },
   "source": [
    "# Step 3A: Handle Missing Values"
   ]
  },
  {
   "cell_type": "code",
   "execution_count": 6,
   "id": "37788b4e",
   "metadata": {
    "execution": {
     "iopub.execute_input": "2025-07-01T11:53:49.284839Z",
     "iopub.status.busy": "2025-07-01T11:53:49.284493Z",
     "iopub.status.idle": "2025-07-01T11:53:49.299413Z",
     "shell.execute_reply": "2025-07-01T11:53:49.298613Z"
    },
    "papermill": {
     "duration": 0.024687,
     "end_time": "2025-07-01T11:53:49.301063",
     "exception": false,
     "start_time": "2025-07-01T11:53:49.276376",
     "status": "completed"
    },
    "tags": []
   },
   "outputs": [],
   "source": [
    "# Fill missing numerical columns with median\n",
    "num_cols = ['Time_spent_Alone', 'Social_event_attendance', 'Going_outside', 'Friends_circle_size', 'Post_frequency']\n",
    "for col in num_cols:\n",
    "    train[col].fillna(train[col].median(), inplace=True)\n",
    "\n",
    "# Fill missing categorical columns with mode\n",
    "cat_cols = ['Stage_fear', 'Drained_after_socializing']\n",
    "for col in cat_cols:\n",
    "    train[col].fillna(train[col].mode()[0], inplace=True)"
   ]
  },
  {
   "cell_type": "markdown",
   "id": "66cce5b1",
   "metadata": {
    "papermill": {
     "duration": 0.007018,
     "end_time": "2025-07-01T11:53:49.315505",
     "exception": false,
     "start_time": "2025-07-01T11:53:49.308487",
     "status": "completed"
    },
    "tags": []
   },
   "source": [
    "# Step 3B: Encode Categorical Features"
   ]
  },
  {
   "cell_type": "code",
   "execution_count": 7,
   "id": "5809e935",
   "metadata": {
    "execution": {
     "iopub.execute_input": "2025-07-01T11:53:49.332700Z",
     "iopub.status.busy": "2025-07-01T11:53:49.332403Z",
     "iopub.status.idle": "2025-07-01T11:53:49.343971Z",
     "shell.execute_reply": "2025-07-01T11:53:49.343215Z"
    },
    "papermill": {
     "duration": 0.021228,
     "end_time": "2025-07-01T11:53:49.345382",
     "exception": false,
     "start_time": "2025-07-01T11:53:49.324154",
     "status": "completed"
    },
    "tags": []
   },
   "outputs": [],
   "source": [
    "# Binary encoding\n",
    "binary_map = {'Yes': 1, 'No': 0}\n",
    "train['Stage_fear'] = train['Stage_fear'].map(binary_map)\n",
    "train['Drained_after_socializing'] = train['Drained_after_socializing'].map(binary_map)\n",
    "\n",
    "# Encode target\n",
    "label_map = {'Introvert': 0, 'Extrovert': 1}\n",
    "train['Personality'] = train['Personality'].map(label_map)"
   ]
  },
  {
   "cell_type": "markdown",
   "id": "d029ac49",
   "metadata": {
    "papermill": {
     "duration": 0.007112,
     "end_time": "2025-07-01T11:53:49.359831",
     "exception": false,
     "start_time": "2025-07-01T11:53:49.352719",
     "status": "completed"
    },
    "tags": []
   },
   "source": [
    "# Step 3C: Prepare Features and Target"
   ]
  },
  {
   "cell_type": "code",
   "execution_count": 8,
   "id": "803a2760",
   "metadata": {
    "execution": {
     "iopub.execute_input": "2025-07-01T11:53:49.375285Z",
     "iopub.status.busy": "2025-07-01T11:53:49.374976Z",
     "iopub.status.idle": "2025-07-01T11:53:49.390354Z",
     "shell.execute_reply": "2025-07-01T11:53:49.389524Z"
    },
    "papermill": {
     "duration": 0.024908,
     "end_time": "2025-07-01T11:53:49.391890",
     "exception": false,
     "start_time": "2025-07-01T11:53:49.366982",
     "status": "completed"
    },
    "tags": []
   },
   "outputs": [],
   "source": [
    "# Drop ID column\n",
    "X = train.drop(['id', 'Personality'], axis=1)\n",
    "y = train['Personality']\n",
    "\n",
    "# Train-validation split (for local testing)\n",
    "from sklearn.model_selection import train_test_split\n",
    "X_train, X_val, y_train, y_val = train_test_split(X, y, test_size=0.2, stratify=y, random_state=42)"
   ]
  },
  {
   "cell_type": "markdown",
   "id": "bef52844",
   "metadata": {
    "papermill": {
     "duration": 0.007001,
     "end_time": "2025-07-01T11:53:49.406546",
     "exception": false,
     "start_time": "2025-07-01T11:53:49.399545",
     "status": "completed"
    },
    "tags": []
   },
   "source": [
    "<div style=\"background-color:#f5e6cc; padding:10px; border-radius:5px;\">\n",
    "\n",
    "# Step 4: Model Training & Evaluation (Random Forest)\n",
    "\n",
    "</div>"
   ]
  },
  {
   "cell_type": "markdown",
   "id": "e738126d",
   "metadata": {
    "papermill": {
     "duration": 0.007005,
     "end_time": "2025-07-01T11:53:49.420735",
     "exception": false,
     "start_time": "2025-07-01T11:53:49.413730",
     "status": "completed"
    },
    "tags": []
   },
   "source": [
    "# Step 4A: Train the Model"
   ]
  },
  {
   "cell_type": "code",
   "execution_count": 9,
   "id": "e5f8b94d",
   "metadata": {
    "execution": {
     "iopub.execute_input": "2025-07-01T11:53:49.436247Z",
     "iopub.status.busy": "2025-07-01T11:53:49.435934Z",
     "iopub.status.idle": "2025-07-01T11:53:50.340147Z",
     "shell.execute_reply": "2025-07-01T11:53:50.339199Z"
    },
    "papermill": {
     "duration": 0.913892,
     "end_time": "2025-07-01T11:53:50.341811",
     "exception": false,
     "start_time": "2025-07-01T11:53:49.427919",
     "status": "completed"
    },
    "tags": []
   },
   "outputs": [
    {
     "data": {
      "text/html": [
       "<style>#sk-container-id-1 {color: black;background-color: white;}#sk-container-id-1 pre{padding: 0;}#sk-container-id-1 div.sk-toggleable {background-color: white;}#sk-container-id-1 label.sk-toggleable__label {cursor: pointer;display: block;width: 100%;margin-bottom: 0;padding: 0.3em;box-sizing: border-box;text-align: center;}#sk-container-id-1 label.sk-toggleable__label-arrow:before {content: \"▸\";float: left;margin-right: 0.25em;color: #696969;}#sk-container-id-1 label.sk-toggleable__label-arrow:hover:before {color: black;}#sk-container-id-1 div.sk-estimator:hover label.sk-toggleable__label-arrow:before {color: black;}#sk-container-id-1 div.sk-toggleable__content {max-height: 0;max-width: 0;overflow: hidden;text-align: left;background-color: #f0f8ff;}#sk-container-id-1 div.sk-toggleable__content pre {margin: 0.2em;color: black;border-radius: 0.25em;background-color: #f0f8ff;}#sk-container-id-1 input.sk-toggleable__control:checked~div.sk-toggleable__content {max-height: 200px;max-width: 100%;overflow: auto;}#sk-container-id-1 input.sk-toggleable__control:checked~label.sk-toggleable__label-arrow:before {content: \"▾\";}#sk-container-id-1 div.sk-estimator input.sk-toggleable__control:checked~label.sk-toggleable__label {background-color: #d4ebff;}#sk-container-id-1 div.sk-label input.sk-toggleable__control:checked~label.sk-toggleable__label {background-color: #d4ebff;}#sk-container-id-1 input.sk-hidden--visually {border: 0;clip: rect(1px 1px 1px 1px);clip: rect(1px, 1px, 1px, 1px);height: 1px;margin: -1px;overflow: hidden;padding: 0;position: absolute;width: 1px;}#sk-container-id-1 div.sk-estimator {font-family: monospace;background-color: #f0f8ff;border: 1px dotted black;border-radius: 0.25em;box-sizing: border-box;margin-bottom: 0.5em;}#sk-container-id-1 div.sk-estimator:hover {background-color: #d4ebff;}#sk-container-id-1 div.sk-parallel-item::after {content: \"\";width: 100%;border-bottom: 1px solid gray;flex-grow: 1;}#sk-container-id-1 div.sk-label:hover label.sk-toggleable__label {background-color: #d4ebff;}#sk-container-id-1 div.sk-serial::before {content: \"\";position: absolute;border-left: 1px solid gray;box-sizing: border-box;top: 0;bottom: 0;left: 50%;z-index: 0;}#sk-container-id-1 div.sk-serial {display: flex;flex-direction: column;align-items: center;background-color: white;padding-right: 0.2em;padding-left: 0.2em;position: relative;}#sk-container-id-1 div.sk-item {position: relative;z-index: 1;}#sk-container-id-1 div.sk-parallel {display: flex;align-items: stretch;justify-content: center;background-color: white;position: relative;}#sk-container-id-1 div.sk-item::before, #sk-container-id-1 div.sk-parallel-item::before {content: \"\";position: absolute;border-left: 1px solid gray;box-sizing: border-box;top: 0;bottom: 0;left: 50%;z-index: -1;}#sk-container-id-1 div.sk-parallel-item {display: flex;flex-direction: column;z-index: 1;position: relative;background-color: white;}#sk-container-id-1 div.sk-parallel-item:first-child::after {align-self: flex-end;width: 50%;}#sk-container-id-1 div.sk-parallel-item:last-child::after {align-self: flex-start;width: 50%;}#sk-container-id-1 div.sk-parallel-item:only-child::after {width: 0;}#sk-container-id-1 div.sk-dashed-wrapped {border: 1px dashed gray;margin: 0 0.4em 0.5em 0.4em;box-sizing: border-box;padding-bottom: 0.4em;background-color: white;}#sk-container-id-1 div.sk-label label {font-family: monospace;font-weight: bold;display: inline-block;line-height: 1.2em;}#sk-container-id-1 div.sk-label-container {text-align: center;}#sk-container-id-1 div.sk-container {/* jupyter's `normalize.less` sets `[hidden] { display: none; }` but bootstrap.min.css set `[hidden] { display: none !important; }` so we also need the `!important` here to be able to override the default hidden behavior on the sphinx rendered scikit-learn.org. See: https://github.com/scikit-learn/scikit-learn/issues/21755 */display: inline-block !important;position: relative;}#sk-container-id-1 div.sk-text-repr-fallback {display: none;}</style><div id=\"sk-container-id-1\" class=\"sk-top-container\"><div class=\"sk-text-repr-fallback\"><pre>RandomForestClassifier(random_state=42)</pre><b>In a Jupyter environment, please rerun this cell to show the HTML representation or trust the notebook. <br />On GitHub, the HTML representation is unable to render, please try loading this page with nbviewer.org.</b></div><div class=\"sk-container\" hidden><div class=\"sk-item\"><div class=\"sk-estimator sk-toggleable\"><input class=\"sk-toggleable__control sk-hidden--visually\" id=\"sk-estimator-id-1\" type=\"checkbox\" checked><label for=\"sk-estimator-id-1\" class=\"sk-toggleable__label sk-toggleable__label-arrow\">RandomForestClassifier</label><div class=\"sk-toggleable__content\"><pre>RandomForestClassifier(random_state=42)</pre></div></div></div></div></div>"
      ],
      "text/plain": [
       "RandomForestClassifier(random_state=42)"
      ]
     },
     "execution_count": 9,
     "metadata": {},
     "output_type": "execute_result"
    }
   ],
   "source": [
    "from sklearn.ensemble import RandomForestClassifier\n",
    "\n",
    "# Initialize the model\n",
    "model = RandomForestClassifier(n_estimators=100, random_state=42)\n",
    "\n",
    "# Fit the model\n",
    "model.fit(X_train, y_train)"
   ]
  },
  {
   "cell_type": "markdown",
   "id": "a522fe4c",
   "metadata": {
    "papermill": {
     "duration": 0.007451,
     "end_time": "2025-07-01T11:53:50.357290",
     "exception": false,
     "start_time": "2025-07-01T11:53:50.349839",
     "status": "completed"
    },
    "tags": []
   },
   "source": [
    "# Step 4B: Evaluate on Validation Set"
   ]
  },
  {
   "cell_type": "code",
   "execution_count": 10,
   "id": "cb7d0437",
   "metadata": {
    "execution": {
     "iopub.execute_input": "2025-07-01T11:53:50.374500Z",
     "iopub.status.busy": "2025-07-01T11:53:50.373680Z",
     "iopub.status.idle": "2025-07-01T11:53:50.627090Z",
     "shell.execute_reply": "2025-07-01T11:53:50.626177Z"
    },
    "papermill": {
     "duration": 0.263483,
     "end_time": "2025-07-01T11:53:50.628586",
     "exception": false,
     "start_time": "2025-07-01T11:53:50.365103",
     "status": "completed"
    },
    "tags": []
   },
   "outputs": [
    {
     "name": "stdout",
     "output_type": "stream",
     "text": [
      "Validation Accuracy: 0.9622132253711201\n",
      "\n",
      "Classification Report:\n",
      "               precision    recall  f1-score   support\n",
      "\n",
      "           0       0.93      0.92      0.93       965\n",
      "           1       0.97      0.98      0.97      2740\n",
      "\n",
      "    accuracy                           0.96      3705\n",
      "   macro avg       0.95      0.95      0.95      3705\n",
      "weighted avg       0.96      0.96      0.96      3705\n",
      "\n"
     ]
    },
    {
     "data": {
      "image/png": "[encoded data removed]",
      "text/plain": [
       "<Figure size 640x480 with 2 Axes>"
      ]
     },
     "metadata": {},
     "output_type": "display_data"
    }
   ],
   "source": [
    "# Predict on validation set\n",
    "y_pred = model.predict(X_val)\n",
    "\n",
    "# Accuracy\n",
    "from sklearn.metrics import accuracy_score, classification_report, confusion_matrix\n",
    "\n",
    "acc = accuracy_score(y_val, y_pred)\n",
    "print(\"Validation Accuracy:\", acc)\n",
    "\n",
    "# Detailed report\n",
    "print(\"\\nClassification Report:\\n\", classification_report(y_val, y_pred))\n",
    "\n",
    "# Confusion Matrix\n",
    "sns.heatmap(confusion_matrix(y_val, y_pred), annot=True, fmt='d', cmap='Blues')\n",
    "plt.xlabel(\"Predicted\")\n",
    "plt.ylabel(\"Actual\")\n",
    "plt.title(\"Confusion Matrix\")\n",
    "plt.show()"
   ]
  },
  {
   "cell_type": "markdown",
   "id": "d4bca7d0",
   "metadata": {
    "execution": {
     "iopub.execute_input": "2025-07-01T11:18:34.049740Z",
     "iopub.status.busy": "2025-07-01T11:18:34.049423Z",
     "iopub.status.idle": "2025-07-01T11:18:34.054086Z",
     "shell.execute_reply": "2025-07-01T11:18:34.053082Z",
     "shell.execute_reply.started": "2025-07-01T11:18:34.049714Z"
    },
    "papermill": {
     "duration": 0.008067,
     "end_time": "2025-07-01T11:53:50.645309",
     "exception": false,
     "start_time": "2025-07-01T11:53:50.637242",
     "status": "completed"
    },
    "tags": []
   },
   "source": [
    "<div style=\"background-color:#f5e6cc; padding:10px; border-radius:5px;\">\n",
    "\n",
    "# Step 5: Prepare Submission File\n",
    "\n",
    "</div>"
   ]
  },
  {
   "cell_type": "markdown",
   "id": "0d89cb9b",
   "metadata": {
    "papermill": {
     "duration": 0.008042,
     "end_time": "2025-07-01T11:53:50.661741",
     "exception": false,
     "start_time": "2025-07-01T11:53:50.653699",
     "status": "completed"
    },
    "tags": []
   },
   "source": [
    "# Step 5A: Preprocess the Test Set"
   ]
  },
  {
   "cell_type": "code",
   "execution_count": 11,
   "id": "6a7024b7",
   "metadata": {
    "execution": {
     "iopub.execute_input": "2025-07-01T11:53:50.680269Z",
     "iopub.status.busy": "2025-07-01T11:53:50.679389Z",
     "iopub.status.idle": "2025-07-01T11:53:50.697689Z",
     "shell.execute_reply": "2025-07-01T11:53:50.696811Z"
    },
    "papermill": {
     "duration": 0.029345,
     "end_time": "2025-07-01T11:53:50.699391",
     "exception": false,
     "start_time": "2025-07-01T11:53:50.670046",
     "status": "completed"
    },
    "tags": []
   },
   "outputs": [],
   "source": [
    "# Copy test data for safety\n",
    "test_copy = test.copy()\n",
    "\n",
    "# Fill missing values\n",
    "for col in num_cols:\n",
    "    test_copy[col].fillna(train[col].median(), inplace=True)\n",
    "\n",
    "for col in cat_cols:\n",
    "    test_copy[col].fillna(train[col].mode()[0], inplace=True)\n",
    "\n",
    "# Encode binary features\n",
    "test_copy['Stage_fear'] = test_copy['Stage_fear'].map(binary_map)\n",
    "test_copy['Drained_after_socializing'] = test_copy['Drained_after_socializing'].map(binary_map)"
   ]
  },
  {
   "cell_type": "markdown",
   "id": "d2665a7c",
   "metadata": {
    "papermill": {
     "duration": 0.00791,
     "end_time": "2025-07-01T11:53:50.715688",
     "exception": false,
     "start_time": "2025-07-01T11:53:50.707778",
     "status": "completed"
    },
    "tags": []
   },
   "source": [
    "# Step 5B: Predict on Test Set"
   ]
  },
  {
   "cell_type": "code",
   "execution_count": 12,
   "id": "d596ef35",
   "metadata": {
    "execution": {
     "iopub.execute_input": "2025-07-01T11:53:50.733866Z",
     "iopub.status.busy": "2025-07-01T11:53:50.733100Z",
     "iopub.status.idle": "2025-07-01T11:53:50.864666Z",
     "shell.execute_reply": "2025-07-01T11:53:50.863676Z"
    },
    "papermill": {
     "duration": 0.142511,
     "end_time": "2025-07-01T11:53:50.866443",
     "exception": false,
     "start_time": "2025-07-01T11:53:50.723932",
     "status": "completed"
    },
    "tags": []
   },
   "outputs": [],
   "source": [
    "# Make a fresh copy\n",
    "test_copy = test.copy()\n",
    "\n",
    "# Impute numerical columns with training set medians\n",
    "num_cols = ['Time_spent_Alone', 'Social_event_attendance', 'Going_outside', 'Friends_circle_size', 'Post_frequency']\n",
    "for col in num_cols:\n",
    "    test_copy[col] = test_copy[col].fillna(train[col].median())\n",
    "\n",
    "# Impute categorical columns with training set mode\n",
    "cat_cols = ['Stage_fear', 'Drained_after_socializing']\n",
    "for col in cat_cols:\n",
    "    test_copy[col] = test_copy[col].fillna(train[col].mode()[0])\n",
    "\n",
    "# Map binary categorical columns\n",
    "binary_map = {'Yes': 1, 'No': 0}\n",
    "test_copy['Stage_fear'] = test_copy['Stage_fear'].map(binary_map)\n",
    "test_copy['Drained_after_socializing'] = test_copy['Drained_after_socializing'].map(binary_map)\n",
    "\n",
    "# Final check and fill any remaining NaNs (just in case)\n",
    "test_copy.fillna(0, inplace=True)\n",
    "\n",
    "# Drop 'id' column\n",
    "X_test = test_copy.drop('id', axis=1)\n",
    "\n",
    "# Ensure columns match training set exactly\n",
    "X_test = X_test[X_train.columns]\n",
    "\n",
    "# Predict\n",
    "test_preds = model.predict(X_test)"
   ]
  },
  {
   "cell_type": "markdown",
   "id": "2fa7f40a",
   "metadata": {
    "papermill": {
     "duration": 0.008194,
     "end_time": "2025-07-01T11:53:50.883062",
     "exception": false,
     "start_time": "2025-07-01T11:53:50.874868",
     "status": "completed"
    },
    "tags": []
   },
   "source": [
    "# Step 5C: Create Submission File"
   ]
  },
  {
   "cell_type": "code",
   "execution_count": 13,
   "id": "31f6558e",
   "metadata": {
    "execution": {
     "iopub.execute_input": "2025-07-01T11:53:50.901360Z",
     "iopub.status.busy": "2025-07-01T11:53:50.900426Z",
     "iopub.status.idle": "2025-07-01T11:53:50.923697Z",
     "shell.execute_reply": "2025-07-01T11:53:50.922807Z"
    },
    "papermill": {
     "duration": 0.034024,
     "end_time": "2025-07-01T11:53:50.925263",
     "exception": false,
     "start_time": "2025-07-01T11:53:50.891239",
     "status": "completed"
    },
    "tags": []
   },
   "outputs": [
    {
     "data": {
      "text/html": [
       "<div>\n",
       "<style scoped>\n",
       "    .dataframe tbody tr th:only-of-type {\n",
       "        vertical-align: middle;\n",
       "    }\n",
       "\n",
       "    .dataframe tbody tr th {\n",
       "        vertical-align: top;\n",
       "    }\n",
       "\n",
       "    .dataframe thead th {\n",
       "        text-align: right;\n",
       "    }\n",
       "</style>\n",
       "<table border=\"1\" class=\"dataframe\">\n",
       "  <thead>\n",
       "    <tr style=\"text-align: right;\">\n",
       "      <th></th>\n",
       "      <th>id</th>\n",
       "      <th>Personality</th>\n",
       "    </tr>\n",
       "  </thead>\n",
       "  <tbody>\n",
       "    <tr>\n",
       "      <th>0</th>\n",
       "      <td>18524</td>\n",
       "      <td>Extrovert</td>\n",
       "    </tr>\n",
       "    <tr>\n",
       "      <th>1</th>\n",
       "      <td>18525</td>\n",
       "      <td>Introvert</td>\n",
       "    </tr>\n",
       "    <tr>\n",
       "      <th>2</th>\n",
       "      <td>18526</td>\n",
       "      <td>Extrovert</td>\n",
       "    </tr>\n",
       "    <tr>\n",
       "      <th>3</th>\n",
       "      <td>18527</td>\n",
       "      <td>Extrovert</td>\n",
       "    </tr>\n",
       "    <tr>\n",
       "      <th>4</th>\n",
       "      <td>18528</td>\n",
       "      <td>Introvert</td>\n",
       "    </tr>\n",
       "  </tbody>\n",
       "</table>\n",
       "</div>"
      ],
      "text/plain": [
       "      id Personality\n",
       "0  18524   Extrovert\n",
       "1  18525   Introvert\n",
       "2  18526   Extrovert\n",
       "3  18527   Extrovert\n",
       "4  18528   Introvert"
      ]
     },
     "execution_count": 13,
     "metadata": {},
     "output_type": "execute_result"
    }
   ],
   "source": [
    "# Map predictions back to label names\n",
    "reverse_label_map = {0: 'Introvert', 1: 'Extrovert'}\n",
    "test_preds_labels = [reverse_label_map[p] for p in test_preds]\n",
    "\n",
    "# Create submission DataFrame\n",
    "submission = pd.DataFrame({\n",
    "    'id': test_copy['id'],\n",
    "    'Personality': test_preds_labels\n",
    "})\n",
    "\n",
    "# Save to CSV\n",
    "submission.to_csv('submission.csv', index=False)\n",
    "\n",
    "# Display first few rows\n",
    "submission.head()"
   ]
  },
  {
   "cell_type": "markdown",
   "id": "d4dd759f",
   "metadata": {
    "papermill": {
     "duration": 0.008129,
     "end_time": "2025-07-01T11:53:50.942164",
     "exception": false,
     "start_time": "2025-07-01T11:53:50.934035",
     "status": "completed"
    },
    "tags": []
   },
   "source": [
    "<div style=\"background-color:#d4edda; padding:15px; border-radius:5px;\">\n",
    "\n",
    "# 7. Conclusion & Summary\n",
    "\n",
    "In this notebook, we tackled the Kaggle Playground Series - Season 5, Episode 7 competition: **Predict the Introverts from the Extroverts**. The goal was to predict personality types (`Introvert` or `Extrovert`) based on social behavior and traits.\n",
    "\n",
    "### Key Steps:\n",
    "- **Explored** the dataset and identified missing values and imbalances.\n",
    "- **Imputed** missing values using median (numerical) and mode (categorical).\n",
    "- **Encoded** binary features (`Yes`/`No`) and the target variable.\n",
    "- **Trained** a `RandomForestClassifier` for classification.\n",
    "- **Evaluated** the model using accuracy, confusion matrix, and classification report.\n",
    "- **Generated** predictions for the test set and prepared a valid submission file.\n",
    "\n",
    "### Validation Accuracy:\n",
    "Achieved a strong validation accuracy of around **XX%** (replace with your actual accuracy) using a basic Random Forest model without hyperparameter tuning.\n",
    "\n",
    "### Future Improvements:\n",
    "- Try **advanced models** like XGBoost or LightGBM for better performance.\n",
    "- Use **hyperparameter tuning** with `GridSearchCV` or `Optuna`.\n",
    "- Handle **class imbalance** with oversampling (e.g., SMOTE) or class weights.\n",
    "- Perform **feature importance analysis** and remove less useful features.\n",
    "- Try **stacking or ensemble methods** for boosting accuracy.\n",
    "\n",
    "---\n",
    "\n",
    "This solution provides a solid baseline to build upon. Thank you for reviewing, and feel free to fork and improve!\n",
    "\n",
    "</div>\n"
   ]
  }
 ],
 "metadata": {
  "kaggle": {
   "accelerator": "none",
   "dataSources": [
    {
     "databundleVersionId": 12738969,
     "sourceId": 91718,
     "sourceType": "competition"
    }
   ],
   "dockerImageVersionId": 31040,
   "isGpuEnabled": false,
   "isInternetEnabled": true,
   "language": "python",
   "sourceType": "notebook"
  },
  "kernelspec": {
   "display_name": "Python 3",
   "language": "python",
   "name": "python3"
  },
  "language_info": {
   "codemirror_mode": {
    "name": "ipython",
    "version": 3
   },
   "file_extension": ".py",
   "mimetype": "text/x-python",
   "name": "python",
   "nbconvert_exporter": "python",
   "pygments_lexer": "ipython3",
   "version": "3.11.11"
  },
  "papermill": {
   "default_parameters": {},
   "duration": 14.316612,
   "end_time": "2025-07-01T11:53:51.670731",
   "environment_variables": {},
   "exception": null,
   "input_path": "__notebook__.ipynb",
   "output_path": "__notebook__.ipynb",
   "parameters": {},
   "start_time": "2025-07-01T11:53:37.354119",
   "version": "2.6.0"
  }
 },
 "nbformat": 4,
 "nbformat_minor": 5
}
